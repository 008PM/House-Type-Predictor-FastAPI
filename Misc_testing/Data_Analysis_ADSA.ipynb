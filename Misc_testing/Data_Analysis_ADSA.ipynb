{
 "cells": [
  {
   "cell_type": "code",
   "execution_count": 1,
   "id": "03176d76",
   "metadata": {},
   "outputs": [
    {
     "name": "stdout",
     "output_type": "stream",
     "text": [
      "Intel MKL WARNING: Support of Intel(R) Streaming SIMD Extensions 4.2 (Intel(R) SSE4.2) enabled only processors has been deprecated. Intel oneAPI Math Kernel Library 2025.0 will require Intel(R) Advanced Vector Extensions (Intel(R) AVX) instructions.\n",
      "Intel MKL WARNING: Support of Intel(R) Streaming SIMD Extensions 4.2 (Intel(R) SSE4.2) enabled only processors has been deprecated. Intel oneAPI Math Kernel Library 2025.0 will require Intel(R) Advanced Vector Extensions (Intel(R) AVX) instructions.\n"
     ]
    }
   ],
   "source": [
    "import pandas as pd\n",
    "import numpy as np"
   ]
  },
  {
   "cell_type": "code",
   "execution_count": 9,
   "id": "10aec4e7",
   "metadata": {},
   "outputs": [],
   "source": [
    "data = pd.read_excel(\"test_data.xlsx\")"
   ]
  },
  {
   "cell_type": "code",
   "execution_count": 14,
   "id": "2eb60b9d",
   "metadata": {},
   "outputs": [
    {
     "data": {
      "text/plain": [
       "(525461, 8)"
      ]
     },
     "execution_count": 14,
     "metadata": {},
     "output_type": "execute_result"
    }
   ],
   "source": [
    "data.shape"
   ]
  },
  {
   "cell_type": "code",
   "execution_count": 19,
   "id": "3713d432",
   "metadata": {},
   "outputs": [],
   "source": [
    "df = data.iloc[125400 :129401]"
   ]
  },
  {
   "cell_type": "code",
   "execution_count": 20,
   "id": "cd12bfa0",
   "metadata": {},
   "outputs": [
    {
     "data": {
      "text/plain": [
       "(4001, 8)"
      ]
     },
     "execution_count": 20,
     "metadata": {},
     "output_type": "execute_result"
    }
   ],
   "source": [
    "df.shape"
   ]
  },
  {
   "cell_type": "code",
   "execution_count": 22,
   "id": "a3b4d8d7",
   "metadata": {},
   "outputs": [
    {
     "name": "stdout",
     "output_type": "stream",
     "text": [
      "<class 'pandas.core.frame.DataFrame'>\n",
      "RangeIndex: 4001 entries, 125400 to 129400\n",
      "Data columns (total 8 columns):\n",
      " #   Column       Non-Null Count  Dtype         \n",
      "---  ------       --------------  -----         \n",
      " 0   Invoice      4001 non-null   object        \n",
      " 1   StockCode    4001 non-null   object        \n",
      " 2   Description  3996 non-null   object        \n",
      " 3   Quantity     4001 non-null   int64         \n",
      " 4   InvoiceDate  4001 non-null   datetime64[ns]\n",
      " 5   Price        4001 non-null   float64       \n",
      " 6   Customer ID  3336 non-null   float64       \n",
      " 7   Country      4001 non-null   object        \n",
      "dtypes: datetime64[ns](1), float64(2), int64(1), object(4)\n",
      "memory usage: 250.2+ KB\n"
     ]
    }
   ],
   "source": [
    "df.info()"
   ]
  },
  {
   "cell_type": "code",
   "execution_count": 25,
   "id": "ce207f48",
   "metadata": {},
   "outputs": [],
   "source": [
    "df = df.dropna()"
   ]
  },
  {
   "cell_type": "code",
   "execution_count": 28,
   "id": "45d543a0",
   "metadata": {},
   "outputs": [
    {
     "data": {
      "text/plain": [
       "Invoice         185\n",
       "StockCode      1247\n",
       "Description    1248\n",
       "Quantity         77\n",
       "InvoiceDate     175\n",
       "Price            84\n",
       "Customer ID     151\n",
       "Country           6\n",
       "dtype: int64"
      ]
     },
     "execution_count": 28,
     "metadata": {},
     "output_type": "execute_result"
    }
   ],
   "source": [
    "df.nunique()"
   ]
  },
  {
   "cell_type": "code",
   "execution_count": 51,
   "id": "982b6169",
   "metadata": {},
   "outputs": [
    {
     "data": {
      "text/plain": [
       "Country\n",
       "United Kingdom    170\n",
       "Germany             8\n",
       "EIRE                3\n",
       "Sweden              2\n",
       "Denmark             1\n",
       "France              1\n",
       "Name: Invoice, dtype: int64"
      ]
     },
     "execution_count": 51,
     "metadata": {},
     "output_type": "execute_result"
    }
   ],
   "source": [
    "df.groupby(\"Country\")['Invoice'].nunique().sort_values(ascending = False)"
   ]
  },
  {
   "cell_type": "code",
   "execution_count": 53,
   "id": "52e15911",
   "metadata": {},
   "outputs": [
    {
     "name": "stderr",
     "output_type": "stream",
     "text": [
      "/var/folders/5d/5_dh0l5x1blftp0m7ykpn2080000gn/T/ipykernel_71973/3326246122.py:1: SettingWithCopyWarning: \n",
      "A value is trying to be set on a copy of a slice from a DataFrame.\n",
      "Try using .loc[row_indexer,col_indexer] = value instead\n",
      "\n",
      "See the caveats in the documentation: https://pandas.pydata.org/pandas-docs/stable/user_guide/indexing.html#returning-a-view-versus-a-copy\n",
      "  df[\"Total Price\"] = df['Price'] * df[\"Quantity\"]\n"
     ]
    }
   ],
   "source": [
    "df[\"Total Price\"] = df['Price'] * df[\"Quantity\"]"
   ]
  },
  {
   "cell_type": "code",
   "execution_count": 54,
   "id": "f43badcb",
   "metadata": {},
   "outputs": [
    {
     "data": {
      "text/html": [
       "<div>\n",
       "<style scoped>\n",
       "    .dataframe tbody tr th:only-of-type {\n",
       "        vertical-align: middle;\n",
       "    }\n",
       "\n",
       "    .dataframe tbody tr th {\n",
       "        vertical-align: top;\n",
       "    }\n",
       "\n",
       "    .dataframe thead th {\n",
       "        text-align: right;\n",
       "    }\n",
       "</style>\n",
       "<table border=\"1\" class=\"dataframe\">\n",
       "  <thead>\n",
       "    <tr style=\"text-align: right;\">\n",
       "      <th></th>\n",
       "      <th>Invoice</th>\n",
       "      <th>StockCode</th>\n",
       "      <th>Description</th>\n",
       "      <th>Quantity</th>\n",
       "      <th>InvoiceDate</th>\n",
       "      <th>Price</th>\n",
       "      <th>Customer ID</th>\n",
       "      <th>Country</th>\n",
       "      <th>Total Price</th>\n",
       "    </tr>\n",
       "  </thead>\n",
       "  <tbody>\n",
       "    <tr>\n",
       "      <th>125400</th>\n",
       "      <td>501347</td>\n",
       "      <td>84991</td>\n",
       "      <td>60 TEATIME FAIRY CAKE CASES</td>\n",
       "      <td>24</td>\n",
       "      <td>2010-03-16 10:51:00</td>\n",
       "      <td>0.55</td>\n",
       "      <td>14873.0</td>\n",
       "      <td>United Kingdom</td>\n",
       "      <td>13.20</td>\n",
       "    </tr>\n",
       "    <tr>\n",
       "      <th>125401</th>\n",
       "      <td>501347</td>\n",
       "      <td>21843</td>\n",
       "      <td>RETRO SPOT CAKE STAND</td>\n",
       "      <td>2</td>\n",
       "      <td>2010-03-16 10:51:00</td>\n",
       "      <td>10.95</td>\n",
       "      <td>14873.0</td>\n",
       "      <td>United Kingdom</td>\n",
       "      <td>21.90</td>\n",
       "    </tr>\n",
       "    <tr>\n",
       "      <th>125402</th>\n",
       "      <td>501347</td>\n",
       "      <td>21527</td>\n",
       "      <td>RETRO SPOT TRADITIONAL TEAPOT</td>\n",
       "      <td>2</td>\n",
       "      <td>2010-03-16 10:51:00</td>\n",
       "      <td>7.95</td>\n",
       "      <td>14873.0</td>\n",
       "      <td>United Kingdom</td>\n",
       "      <td>15.90</td>\n",
       "    </tr>\n",
       "    <tr>\n",
       "      <th>125403</th>\n",
       "      <td>501347</td>\n",
       "      <td>21662</td>\n",
       "      <td>VINTAGE GLASS COFFEE CADDY</td>\n",
       "      <td>3</td>\n",
       "      <td>2010-03-16 10:51:00</td>\n",
       "      <td>5.95</td>\n",
       "      <td>14873.0</td>\n",
       "      <td>United Kingdom</td>\n",
       "      <td>17.85</td>\n",
       "    </tr>\n",
       "    <tr>\n",
       "      <th>125404</th>\n",
       "      <td>501347</td>\n",
       "      <td>21663</td>\n",
       "      <td>VINTAGE GLASS SUGAR CADDY</td>\n",
       "      <td>3</td>\n",
       "      <td>2010-03-16 10:51:00</td>\n",
       "      <td>5.95</td>\n",
       "      <td>14873.0</td>\n",
       "      <td>United Kingdom</td>\n",
       "      <td>17.85</td>\n",
       "    </tr>\n",
       "  </tbody>\n",
       "</table>\n",
       "</div>"
      ],
      "text/plain": [
       "       Invoice StockCode                     Description  Quantity  \\\n",
       "125400  501347     84991     60 TEATIME FAIRY CAKE CASES        24   \n",
       "125401  501347     21843           RETRO SPOT CAKE STAND         2   \n",
       "125402  501347     21527  RETRO SPOT TRADITIONAL TEAPOT          2   \n",
       "125403  501347     21662      VINTAGE GLASS COFFEE CADDY         3   \n",
       "125404  501347     21663       VINTAGE GLASS SUGAR CADDY         3   \n",
       "\n",
       "               InvoiceDate  Price  Customer ID         Country  Total Price  \n",
       "125400 2010-03-16 10:51:00   0.55      14873.0  United Kingdom        13.20  \n",
       "125401 2010-03-16 10:51:00  10.95      14873.0  United Kingdom        21.90  \n",
       "125402 2010-03-16 10:51:00   7.95      14873.0  United Kingdom        15.90  \n",
       "125403 2010-03-16 10:51:00   5.95      14873.0  United Kingdom        17.85  \n",
       "125404 2010-03-16 10:51:00   5.95      14873.0  United Kingdom        17.85  "
      ]
     },
     "execution_count": 54,
     "metadata": {},
     "output_type": "execute_result"
    }
   ],
   "source": [
    "df.head()"
   ]
  },
  {
   "cell_type": "code",
   "execution_count": 60,
   "id": "de97fa4e",
   "metadata": {},
   "outputs": [
    {
     "data": {
      "text/plain": [
       "1296.0"
      ]
     },
     "execution_count": 60,
     "metadata": {},
     "output_type": "execute_result"
    }
   ],
   "source": [
    "df['Total Price'].max()"
   ]
  },
  {
   "cell_type": "code",
   "execution_count": 63,
   "id": "d9ba65fb",
   "metadata": {},
   "outputs": [
    {
     "data": {
      "text/html": [
       "<div>\n",
       "<style scoped>\n",
       "    .dataframe tbody tr th:only-of-type {\n",
       "        vertical-align: middle;\n",
       "    }\n",
       "\n",
       "    .dataframe tbody tr th {\n",
       "        vertical-align: top;\n",
       "    }\n",
       "\n",
       "    .dataframe thead th {\n",
       "        text-align: right;\n",
       "    }\n",
       "</style>\n",
       "<table border=\"1\" class=\"dataframe\">\n",
       "  <thead>\n",
       "    <tr style=\"text-align: right;\">\n",
       "      <th></th>\n",
       "      <th>Invoice</th>\n",
       "      <th>StockCode</th>\n",
       "      <th>Description</th>\n",
       "      <th>Quantity</th>\n",
       "      <th>InvoiceDate</th>\n",
       "      <th>Price</th>\n",
       "      <th>Customer ID</th>\n",
       "      <th>Country</th>\n",
       "      <th>Total Price</th>\n",
       "    </tr>\n",
       "  </thead>\n",
       "  <tbody>\n",
       "    <tr>\n",
       "      <th>127166</th>\n",
       "      <td>501534</td>\n",
       "      <td>21099</td>\n",
       "      <td>SET/6 STRAWBERRY PAPER CUPS</td>\n",
       "      <td>12960</td>\n",
       "      <td>2010-03-17 13:09:00</td>\n",
       "      <td>0.1</td>\n",
       "      <td>13902.0</td>\n",
       "      <td>Denmark</td>\n",
       "      <td>1296.0</td>\n",
       "    </tr>\n",
       "    <tr>\n",
       "      <th>127168</th>\n",
       "      <td>501534</td>\n",
       "      <td>21091</td>\n",
       "      <td>SET/6 WOODLAND PAPER PLATES</td>\n",
       "      <td>12960</td>\n",
       "      <td>2010-03-17 13:09:00</td>\n",
       "      <td>0.1</td>\n",
       "      <td>13902.0</td>\n",
       "      <td>Denmark</td>\n",
       "      <td>1296.0</td>\n",
       "    </tr>\n",
       "  </tbody>\n",
       "</table>\n",
       "</div>"
      ],
      "text/plain": [
       "       Invoice StockCode                  Description  Quantity  \\\n",
       "127166  501534     21099  SET/6 STRAWBERRY PAPER CUPS     12960   \n",
       "127168  501534     21091  SET/6 WOODLAND PAPER PLATES     12960   \n",
       "\n",
       "               InvoiceDate  Price  Customer ID  Country  Total Price  \n",
       "127166 2010-03-17 13:09:00    0.1      13902.0  Denmark       1296.0  \n",
       "127168 2010-03-17 13:09:00    0.1      13902.0  Denmark       1296.0  "
      ]
     },
     "execution_count": 63,
     "metadata": {},
     "output_type": "execute_result"
    }
   ],
   "source": [
    "df[df['Total Price'] == 1296.0]"
   ]
  },
  {
   "cell_type": "code",
   "execution_count": 68,
   "id": "d2b5147b",
   "metadata": {},
   "outputs": [
    {
     "data": {
      "text/plain": [
       "Customer ID\n",
       "13902.0    6866.30\n",
       "13694.0    5879.67\n",
       "18102.0    4580.00\n",
       "17511.0    4478.12\n",
       "12709.0    2917.76\n",
       "            ...   \n",
       "15058.0     -32.85\n",
       "18094.0     -38.60\n",
       "17477.0     -41.65\n",
       "15057.0     -71.40\n",
       "16943.0    -241.38\n",
       "Name: Total Price, Length: 151, dtype: float64"
      ]
     },
     "execution_count": 68,
     "metadata": {},
     "output_type": "execute_result"
    }
   ],
   "source": [
    "df.groupby('Customer ID')[\"Total Price\"].sum().sort_values(ascending = False)"
   ]
  },
  {
   "cell_type": "code",
   "execution_count": 75,
   "id": "a600f7e7",
   "metadata": {},
   "outputs": [
    {
     "data": {
      "text/plain": [
       "(26, 9)"
      ]
     },
     "execution_count": 75,
     "metadata": {},
     "output_type": "execute_result"
    }
   ],
   "source": [
    "df[df[\"Customer ID\"] == 13694.0].shape"
   ]
  }
 ],
 "metadata": {
  "kernelspec": {
   "display_name": "Python 3 (ipykernel)",
   "language": "python",
   "name": "python3"
  },
  "language_info": {
   "codemirror_mode": {
    "name": "ipython",
    "version": 3
   },
   "file_extension": ".py",
   "mimetype": "text/x-python",
   "name": "python",
   "nbconvert_exporter": "python",
   "pygments_lexer": "ipython3",
   "version": "3.9.13"
  }
 },
 "nbformat": 4,
 "nbformat_minor": 5
}
